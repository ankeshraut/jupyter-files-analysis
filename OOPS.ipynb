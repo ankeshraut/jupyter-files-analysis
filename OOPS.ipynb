{
 "cells": [
  {
   "cell_type": "markdown",
   "id": "075a5474",
   "metadata": {},
   "source": [
    "# OOPS concept\n",
    "# 1 Class\n",
    "# 2 Object\n",
    "# 3 Method\n",
    "# 4 Inheritance\n",
    "# 5 Polymorphism\n",
    "# 6 Data abstraction\n",
    "# 7 Encapsulation"
   ]
  },
  {
   "cell_type": "code",
   "execution_count": 1,
   "id": "c867c122",
   "metadata": {},
   "outputs": [
    {
     "ename": "NameError",
     "evalue": "name 'DemoClass' is not defined",
     "output_type": "error",
     "traceback": [
      "\u001b[1;31m---------------------------------------------------------------------------\u001b[0m",
      "\u001b[1;31mNameError\u001b[0m                                 Traceback (most recent call last)",
      "Cell \u001b[1;32mIn[1], line 3\u001b[0m\n\u001b[0;32m      1\u001b[0m \u001b[38;5;66;03m# CLASS\u001b[39;00m\n\u001b[1;32m----> 3\u001b[0m \u001b[38;5;28;01mclass\u001b[39;00m \u001b[38;5;21;01mDemoClass\u001b[39;00m:\n\u001b[0;32m      4\u001b[0m     a\u001b[38;5;241m=\u001b[39m\u001b[38;5;241m10\u001b[39m\n\u001b[0;32m      5\u001b[0m     obj\u001b[38;5;241m=\u001b[39mDemoClass()\n",
      "Cell \u001b[1;32mIn[1], line 5\u001b[0m, in \u001b[0;36mDemoClass\u001b[1;34m()\u001b[0m\n\u001b[0;32m      3\u001b[0m \u001b[38;5;28;01mclass\u001b[39;00m \u001b[38;5;21;01mDemoClass\u001b[39;00m:\n\u001b[0;32m      4\u001b[0m     a\u001b[38;5;241m=\u001b[39m\u001b[38;5;241m10\u001b[39m\n\u001b[1;32m----> 5\u001b[0m     obj\u001b[38;5;241m=\u001b[39mDemoClass()\n\u001b[0;32m      6\u001b[0m     \u001b[38;5;28mprint\u001b[39m(obj\u001b[38;5;241m.\u001b[39ma)\n",
      "\u001b[1;31mNameError\u001b[0m: name 'DemoClass' is not defined"
     ]
    }
   ],
   "source": [
    "# CLASS\n",
    "\n",
    "class DemoClass:\n",
    "    a=10\n",
    "    obj=DemoClass()\n",
    "    print(obj.a)"
   ]
  },
  {
   "cell_type": "code",
   "execution_count": 33,
   "id": "af3dc942",
   "metadata": {},
   "outputs": [],
   "source": [
    "class Demo1:\n",
    "    a=10\n",
    "    def sumvalue(self,a,b):\n",
    "        print(a+b)\n"
   ]
  },
  {
   "cell_type": "code",
   "execution_count": 34,
   "id": "bae73e23",
   "metadata": {},
   "outputs": [
    {
     "name": "stdout",
     "output_type": "stream",
     "text": [
      "30\n"
     ]
    }
   ],
   "source": [
    "obj1=Demo1()\n",
    "obj1.sumvalue(10,20)"
   ]
  },
  {
   "cell_type": "code",
   "execution_count": 35,
   "id": "5603a60c",
   "metadata": {},
   "outputs": [
    {
     "name": "stdout",
     "output_type": "stream",
     "text": [
      "10\n"
     ]
    }
   ],
   "source": [
    "print(obj1.a)\n"
   ]
  },
  {
   "cell_type": "markdown",
   "id": "0b6569d4",
   "metadata": {},
   "source": [
    "# METHODS AND CONSTRUCTOR"
   ]
  },
  {
   "cell_type": "code",
   "execution_count": 2,
   "id": "a43d5939",
   "metadata": {},
   "outputs": [],
   "source": [
    "# methods and constructor\n",
    "# method call by using object\n",
    "# constructor call automatically, when object created.\n",
    "\n",
    "class Demo1:\n",
    "    a=20\n",
    "    def show(self):\n",
    "        print(self.a)"
   ]
  },
  {
   "cell_type": "code",
   "execution_count": 3,
   "id": "0f55e209",
   "metadata": {},
   "outputs": [
    {
     "name": "stdout",
     "output_type": "stream",
     "text": [
      "20\n"
     ]
    }
   ],
   "source": [
    "obj2=Demo1()\n",
    "obj2.show()"
   ]
  },
  {
   "cell_type": "code",
   "execution_count": 38,
   "id": "91df4b4a",
   "metadata": {},
   "outputs": [],
   "source": [
    "# note :- without (self) you cannot used the variable in function.\n"
   ]
  },
  {
   "cell_type": "code",
   "execution_count": 5,
   "id": "794570cb",
   "metadata": {},
   "outputs": [],
   "source": [
    "# CONSTRUCTOR IS A SPECIAL TYPE OF METHOD(FUCNTION) which is used to initialize ieh instance\n",
    "#1 PARAMETERIZED CONS\n",
    "#2 NON PARAMETERIZED CONS\n",
    "\n"
   ]
  },
  {
   "cell_type": "code",
   "execution_count": 27,
   "id": "2d706552",
   "metadata": {
    "scrolled": true
   },
   "outputs": [
    {
     "name": "stdout",
     "output_type": "stream",
     "text": [
      "id and name= 101 john\n"
     ]
    }
   ],
   "source": [
    "class employ:\n",
    "    def __init__(self,name,id):\n",
    "        self.id=id\n",
    "        self.name=name\n",
    "    def display(self):\n",
    "            print(\"id and name=\",self.id,self.name)\n",
    "obj1=employ(\"john\",101)\n",
    "obj1.display()"
   ]
  },
  {
   "cell_type": "code",
   "execution_count": 12,
   "id": "b437c687",
   "metadata": {},
   "outputs": [],
   "source": [
    "class student:\n",
    "    #constructor-non parameterized\n",
    "    def __init__(self):\n",
    "        print(\"This is non parametrized constructor\")\n",
    "        def show(self,name):\n",
    "            print(\"hello\",name)\n",
    "            student = student()\n",
    "            student.show(\"john\")"
   ]
  },
  {
   "cell_type": "code",
   "execution_count": 39,
   "id": "bec89724",
   "metadata": {},
   "outputs": [
    {
     "name": "stdout",
     "output_type": "stream",
     "text": [
      "101 joseph\n"
     ]
    }
   ],
   "source": [
    "class student:\n",
    "    roll_num=101\n",
    "    name=\"joseph\"\n",
    "    def display(self):\n",
    "        print(self.roll_num,self.name)\n",
    "st=student()\n",
    "st.display() "
   ]
  },
  {
   "cell_type": "code",
   "execution_count": 2,
   "id": "efaa5cb9",
   "metadata": {},
   "outputs": [
    {
     "ename": "TypeError",
     "evalue": "employee.__init__() missing 2 required positional arguments: 'num' and 'name'",
     "output_type": "error",
     "traceback": [
      "\u001b[1;31m---------------------------------------------------------------------------\u001b[0m",
      "\u001b[1;31mTypeError\u001b[0m                                 Traceback (most recent call last)",
      "Cell \u001b[1;32mIn[2], line 7\u001b[0m\n\u001b[0;32m      5\u001b[0m     \u001b[38;5;28;01mdef\u001b[39;00m \u001b[38;5;21mdisplay\u001b[39m(\u001b[38;5;28mself\u001b[39m):\n\u001b[0;32m      6\u001b[0m         \u001b[38;5;28mprint\u001b[39m(\u001b[38;5;28mself\u001b[39m\u001b[38;5;241m.\u001b[39mnum,\u001b[38;5;28mself\u001b[39m\u001b[38;5;241m.\u001b[39mname)\n\u001b[1;32m----> 7\u001b[0m st\u001b[38;5;241m=\u001b[39memployee()\n\u001b[0;32m      8\u001b[0m st\u001b[38;5;241m.\u001b[39mdisplay()\n",
      "\u001b[1;31mTypeError\u001b[0m: employee.__init__() missing 2 required positional arguments: 'num' and 'name'"
     ]
    }
   ],
   "source": [
    "class employee:\n",
    "    def __init__(self,num,name):\n",
    "        num=101\n",
    "        name=\"ankesh\"\n",
    "    def display(self):\n",
    "        print(self.num,self.name)\n",
    "st=employee()\n",
    "st.display()"
   ]
  },
  {
   "cell_type": "code",
   "execution_count": 26,
   "id": "13e5eecf",
   "metadata": {},
   "outputs": [
    {
     "name": "stdout",
     "output_type": "stream",
     "text": [
      "id and name and salary= 101 john 10000\n"
     ]
    }
   ],
   "source": [
    "class employ:\n",
    "    def __init__(self,name,id,salary):\n",
    "        self.id=id\n",
    "        self.name=name\n",
    "        self.salary=salary\n",
    "    def display(self):\n",
    "            print(\"id and name and salary=\",self.id,self.name,self.salary)\n",
    "obj1=employ(\"john\",101,10000)\n",
    "obj1.display()"
   ]
  },
  {
   "cell_type": "code",
   "execution_count": 47,
   "id": "e2c64484",
   "metadata": {},
   "outputs": [
    {
     "name": "stdout",
     "output_type": "stream",
     "text": [
      "enter the namesadfasf\n",
      "enter the salary684684\n",
      "enter name is sadfasf\n",
      "enter salary 684684\n",
      "divide bonus 68468.4\n"
     ]
    }
   ],
   "source": [
    "class Emp:\n",
    "    def input(self):\n",
    "        self.ename=input(\"enter the name\")\n",
    "        self.salary=int(input(\"enter the salary\"))\n",
    "    def show(self):\n",
    "            print(\"enter name is\",self.ename)\n",
    "            print(\"enter salary\",self.salary)\n",
    "            bonus=self.salary*10/100\n",
    "            print(\"divide bonus\",bonus)\n",
    "Emp1=Emp()\n",
    "Emp1.input()\n",
    "Emp1.show()"
   ]
  },
  {
   "cell_type": "markdown",
   "id": "40cec93c",
   "metadata": {},
   "source": [
    "# Inheritance"
   ]
  },
  {
   "cell_type": "code",
   "execution_count": null,
   "id": "7fd82812",
   "metadata": {},
   "outputs": [],
   "source": [
    "#the process of inheriting the properties of the parents class into a child class is called inheritance."
   ]
  },
  {
   "cell_type": "code",
   "execution_count": null,
   "id": "ceff5c04",
   "metadata": {},
   "outputs": [],
   "source": []
  },
  {
   "cell_type": "code",
   "execution_count": null,
   "id": "b68e34c6",
   "metadata": {},
   "outputs": [],
   "source": [
    "#types of inheritance\n",
    "# 1 single inheritance\n",
    "# 2 multiple inheritance\n",
    "# 3 multilevel inheritance\n",
    "# 4 hierarchical inheritance\n",
    "# 5 hybrid inheritance"
   ]
  },
  {
   "cell_type": "code",
   "execution_count": 56,
   "id": "a9937a16",
   "metadata": {},
   "outputs": [
    {
     "name": "stdout",
     "output_type": "stream",
     "text": [
      "inside vehicle class\n",
      "inside car class\n"
     ]
    }
   ],
   "source": [
    "#base class\n",
    "class vehicle:\n",
    "    def vehicle_info(self):\n",
    "        print(\"inside vehicle class\")\n",
    "class Car(vehicle):\n",
    "    def Car_info(self):\n",
    "        print(\"inside car class\")\n",
    "car=Car()\n",
    "car.vehicle_info()\n",
    "car.Car_info()"
   ]
  },
  {
   "cell_type": "code",
   "execution_count": 61,
   "id": "46437cd6",
   "metadata": {},
   "outputs": [
    {
     "name": "stdout",
     "output_type": "stream",
     "text": [
      "inside person class\n",
      "Name: jess Age 28\n",
      "inside company class\n",
      "Name foofle location: atlanta\n",
      "inside employ class\n",
      "Salary: 1200 Skill: machine learning\n"
     ]
    }
   ],
   "source": [
    "# MULTIPLE INHERITANCE\n",
    "\n",
    "# PARENTS CLASS\n",
    "class person:\n",
    "    def person_info(self,name,age):\n",
    "        print(\"inside person class\")\n",
    "        print(\"Name:\",name,\"Age\",age)\n",
    "# PARENTS CLASS\n",
    "class company:\n",
    "    def company_info(self,company_name,location):\n",
    "        \n",
    "        print(\"inside company class\")\n",
    "        print(\"Name\",company_name,\"location:\",location)\n",
    "#CHILD CLASS\n",
    "class employ(person,company):\n",
    "    def employ_info(self,salary,skill):\n",
    "        print(\"inside employ class\")\n",
    "        print(\"Salary:\",salary,\"Skill:\",skill)\n",
    "emp=employ()\n",
    "emp.person_info(\"jess\",28)\n",
    "emp.company_info(\"foofle\",\"atlanta\")\n",
    "emp.employ_info(1200,\"machine learning\")"
   ]
  },
  {
   "cell_type": "markdown",
   "id": "ef71e4bd",
   "metadata": {},
   "source": [
    "# Multilevel inheritance"
   ]
  },
  {
   "cell_type": "code",
   "execution_count": null,
   "id": "7f0bfda7",
   "metadata": {},
   "outputs": [],
   "source": [
    "# a chain of classes is called multilevel inheritance\n"
   ]
  },
  {
   "cell_type": "code",
   "execution_count": 63,
   "id": "5c367e9c",
   "metadata": {},
   "outputs": [
    {
     "name": "stdout",
     "output_type": "stream",
     "text": [
      "inside class\n",
      "inside the car\n",
      "inside the supercar info\n"
     ]
    }
   ],
   "source": [
    "class vehicle:\n",
    "    def vehicle_info(self):\n",
    "        print(\"inside class\")\n",
    "        \n",
    "class car(vehicle):\n",
    "    def car_info(self):\n",
    "        print(\"inside the car\")\n",
    "        \n",
    "class supercar(car):\n",
    "    def supercar_info(self):\n",
    "        print(\"inside the supercar info\")\n",
    "        \n",
    "s=supercar()\n",
    "s.vehicle_info()\n",
    "s.car_info()\n",
    "s.supercar_info()"
   ]
  },
  {
   "cell_type": "markdown",
   "id": "f5a687bb",
   "metadata": {},
   "source": [
    "# HIERARCHICAL INHERITANCE"
   ]
  },
  {
   "cell_type": "code",
   "execution_count": 1,
   "id": "9961c3a1",
   "metadata": {},
   "outputs": [
    {
     "name": "stdout",
     "output_type": "stream",
     "text": [
      "Inside car info\n",
      "Inside vehicle info\n",
      "Inside truck info\n",
      "Inside vehicle info\n",
      "Inside bike info\n",
      "Inside vehicle info\n"
     ]
    }
   ],
   "source": [
    "#Hierarchical inheritance\n",
    "class vehicle:\n",
    "    def vehicle_info(self):\n",
    "        print(\"Inside vehicle info\")\n",
    "class car(vehicle):\n",
    "    def car_info(self):\n",
    "        print(\"Inside car info\")\n",
    "class truck(vehicle):\n",
    "    def truck_info(self):\n",
    "        print(\"Inside truck info\")\n",
    "class bike(vehicle):\n",
    "    def bike_info(self):\n",
    "        print(\"Inside bike info\")\n",
    "c=car()\n",
    "c.car_info()\n",
    "c.vehicle_info()\n",
    "t=truck()\n",
    "t.truck_info()\n",
    "t.vehicle_info()\n",
    "b=bike()\n",
    "b.bike_info()\n",
    "b.vehicle_info()"
   ]
  },
  {
   "cell_type": "code",
   "execution_count": 3,
   "id": "3e259357",
   "metadata": {},
   "outputs": [
    {
     "name": "stdout",
     "output_type": "stream",
     "text": [
      "inside vehicle class\n",
      "inside car class\n",
      "inside sportscar class\n"
     ]
    }
   ],
   "source": [
    "class vehicle:\n",
    "    def vehicle_info(self):\n",
    "        print(\"inside vehicle class\")\n",
    "        \n",
    "class car(vehicle):\n",
    "    def car_info(self):\n",
    "        print(\"inside car class\")\n",
    "        \n",
    "class truck(vehicle):\n",
    "    def truck_info(self):\n",
    "        pritn(\"inside truck class\")\n",
    "        \n",
    "class sportscar(car,vehicle):\n",
    "    def sports_car_info(self):\n",
    "        print(\"inside sportscar class\")\n",
    "        \n",
    "s_car=sportscar()\n",
    "s_car.vehicle_info()\n",
    "s_car.car_info()\n",
    "s_car.sports_car_info()"
   ]
  },
  {
   "cell_type": "markdown",
   "id": "cee92b55",
   "metadata": {},
   "source": [
    "# Polymorphism"
   ]
  },
  {
   "cell_type": "code",
   "execution_count": null,
   "id": "6562cb17",
   "metadata": {},
   "outputs": [],
   "source": [
    "#polymorphism refers to having multiple forms. SAME OBJECT HAVE DIFFERENT BEHAVIOUR.\n",
    "#TYPES IMPLEMENTATION BY TWO TYPES\n",
    "# 1 OVERLOADING\n",
    "# 2 OVERRIDING"
   ]
  },
  {
   "cell_type": "code",
   "execution_count": null,
   "id": "6aa07ae9",
   "metadata": {},
   "outputs": [],
   "source": [
    "# OVERLOADING : WHENEVER A CLASS CONTAINS MORE THAN ONE METHJOD WITH SAME NAEM AND DIFFERENT TYPE PARAMETER IS \n",
    "#CALLED OVERLOADING"
   ]
  },
  {
   "cell_type": "code",
   "execution_count": 15,
   "id": "68ac12a3",
   "metadata": {},
   "outputs": [
    {
     "name": "stdout",
     "output_type": "stream",
     "text": [
      "Welcome  \n",
      "Welcome Raj \n",
      "Welcome Raj Gupta\n"
     ]
    }
   ],
   "source": [
    "class A:\n",
    "    def show(self):\n",
    "        print(\"Welcome\")\n",
    "    def show(self,firstname=''):\n",
    "        print(\"Welcome\",firstname)\n",
    "    def show(self,firstname='',lastname=''):\n",
    "        print(\"Welcome\",firstname,lastname)\n",
    "obj=A()\n",
    "obj.show()\n",
    "obj.show('Raj')\n",
    "obj.show('Raj','Gupta')"
   ]
  },
  {
   "cell_type": "code",
   "execution_count": null,
   "id": "27be1232",
   "metadata": {},
   "outputs": [],
   "source": [
    "# overriding method :whenever we write method name with same sihnature in parents and child class called method overriding"
   ]
  },
  {
   "cell_type": "code",
   "execution_count": 21,
   "id": "e7ddad81",
   "metadata": {},
   "outputs": [
    {
     "name": "stdout",
     "output_type": "stream",
     "text": [
      "this is class method\n"
     ]
    }
   ],
   "source": [
    "class A:\n",
    "    def display(self):\n",
    "        print(\"this is parent class method\")\n",
    "        \n",
    "class B:\n",
    "    #override\n",
    "    def display(self):\n",
    "        print(\"this is class method\")\n",
    "obj=B()\n",
    "obj.display()"
   ]
  },
  {
   "cell_type": "code",
   "execution_count": 30,
   "id": "917206c5",
   "metadata": {},
   "outputs": [
    {
     "name": "stdout",
     "output_type": "stream",
     "text": [
      "this is parent class method\n",
      "this is class method\n"
     ]
    }
   ],
   "source": [
    "class A:\n",
    "    def display(self):\n",
    "        print(\"this is parent class method\")\n",
    "        \n",
    "class B(A):\n",
    "    #override\n",
    "    def display(self):\n",
    "        super().display()\n",
    "        print(\"this is class method\")\n",
    "obj=B()\n",
    "obj.display()"
   ]
  },
  {
   "cell_type": "code",
   "execution_count": 28,
   "id": "95374f73",
   "metadata": {},
   "outputs": [
    {
     "name": "stdout",
     "output_type": "stream",
     "text": [
      "This is parent class method\n",
      "This is child class method\n"
     ]
    }
   ],
   "source": [
    "class A:\n",
    "    def display(self):\n",
    "        print(\"This is parent class method\")\n",
    "class B(A):\n",
    "    def display(self):\n",
    "        super().display()\n",
    "        print(\"This is child class method\")\n",
    "obj=B()\n",
    "obj.display()"
   ]
  },
  {
   "cell_type": "code",
   "execution_count": 6,
   "id": "20d961f3",
   "metadata": {},
   "outputs": [
    {
     "name": "stdout",
     "output_type": "stream",
     "text": [
      "Hello!!! Welcome to the Deposit & Withdrawal Machine\n",
      "Enter amount to be Deposited: 64654\n",
      "\n",
      " Amount Deposited: 64654.0\n",
      "Enter amount to be Withdrawn: 465\n",
      "\n",
      " You Withdrew: 465.0\n",
      "\n",
      " Net Available Balance= 64189.0\n"
     ]
    }
   ],
   "source": [
    "class Bank_Account:\n",
    "    def __init__(self):\n",
    "        self.balance=0\n",
    "        print(\"Hello!!! Welcome to the Deposit & Withdrawal Machine\")\n",
    " \n",
    "    def deposit(self):\n",
    "        amount=float(input(\"Enter amount to be Deposited: \"))\n",
    "        self.balance += amount\n",
    "        print(\"\\n Amount Deposited:\",amount) \n",
    " \n",
    "    def withdraw(self):\n",
    "        amount = float(input(\"Enter amount to be Withdrawn: \"))\n",
    "        if self.balance>=amount:\n",
    "            self.balance-=amount\n",
    "            print(\"\\n You Withdrew:\", amount)\n",
    "        else:\n",
    "            print(\"\\n Insufficient balance  \")\n",
    " \n",
    "    def display(self):\n",
    "        print(\"\\n Net Available Balance=\",self.balance)\n",
    "  \n",
    "s = Bank_Account()\n",
    "  \n",
    "s.deposit()\n",
    "s.withdraw()\n",
    "s.display()"
   ]
  },
  {
   "cell_type": "markdown",
   "id": "895ff9df",
   "metadata": {},
   "source": [
    "# Data - Abstraction "
   ]
  },
  {
   "cell_type": "code",
   "execution_count": 4,
   "id": "77096457",
   "metadata": {},
   "outputs": [],
   "source": [
    "# abstraction is used to hide internal details and show only fuctionalities.\n",
    "# abstraction something means to give names to things, so that the name captures the basic idea of what a function or a whole \n",
    "#programs does.\n",
    "#user is familiar with that \"what function does\" but they dont know \"how it does.\""
   ]
  },
  {
   "cell_type": "code",
   "execution_count": 5,
   "id": "100af5da",
   "metadata": {},
   "outputs": [],
   "source": [
    "#Abstraction can be achieved by using\n",
    "# a. Abstraction class\n",
    "# b. Interface"
   ]
  },
  {
   "cell_type": "code",
   "execution_count": 2,
   "id": "2b09383f",
   "metadata": {},
   "outputs": [],
   "source": [
    "# abstract method\n",
    "\n",
    "from abc import ABC,abstractmethod\n",
    "class Car(ABC):\n",
    "    def show(self):\n",
    "        print(\"every car has 4 wheels\")\n",
    "        @abstractmethod\n",
    "        def speed(self):\n",
    "            pass\n",
    "        \n",
    "        "
   ]
  },
  {
   "cell_type": "code",
   "execution_count": 3,
   "id": "4f63add8",
   "metadata": {},
   "outputs": [
    {
     "name": "stdout",
     "output_type": "stream",
     "text": [
      "every car has 4 wheels\n",
      "speed is 70 km/h\n"
     ]
    }
   ],
   "source": [
    "class maruti(Car):\n",
    "    def speed(self):\n",
    "        print(\"speed is 70 km/h\")\n",
    "    \n",
    "class suzuki(Car):\n",
    "    def speed(self):\n",
    "        print(\"speed is 80km/h\")\n",
    "    \n",
    "objm=maruti()\n",
    "objm.show()\n",
    "objm.speed()"
   ]
  },
  {
   "cell_type": "code",
   "execution_count": 4,
   "id": "38f56f90",
   "metadata": {},
   "outputs": [],
   "source": [
    "# interface\n",
    "from abc import ABC,abstractmethod\n",
    "class shape(ABC):\n",
    "    \n",
    "        @abstractmethod\n",
    "        def show(self):\n",
    "            pass\n",
    "\n"
   ]
  },
  {
   "cell_type": "code",
   "execution_count": 5,
   "id": "ac177dd7",
   "metadata": {},
   "outputs": [
    {
     "name": "stdout",
     "output_type": "stream",
     "text": [
      "square has four side...\n",
      "circle has circle shape...\n"
     ]
    }
   ],
   "source": [
    "# creating class and string interface\n",
    "\n",
    "class square(shape):\n",
    "    def show(self):\n",
    "        print(\"square has four side...\")\n",
    "class circle(shape):\n",
    "    def show(self):\n",
    "        print(\"circle has circle shape...\")\n",
    "s=square()\n",
    "s.show()\n",
    "c=circle()\n",
    "c.show()"
   ]
  },
  {
   "cell_type": "code",
   "execution_count": null,
   "id": "309df258",
   "metadata": {},
   "outputs": [],
   "source": [
    "x=int(input(\"enter the num\"))\n",
    "list=[]\n",
    "for i in range(0,x):\n",
    "    print(\"enter no \",i)\n",
    "    item=int(input())\n",
    "    list.append(item)\n",
    "print(\"user list\",list)\n",
    "fp=open('OOPS.txt','w')\n",
    "for d in lsit:\n",
    "fp.write(fp'{d}\\n')\n",
    "print(done)\n",
    "fp.close()\n",
    "         f2.open(\"OOPS.txt\",'r')\n",
    "         num1=f2.readlines()\n",
    "         num1=[int(i) for i num1]\n",
    "            print(num1)\n",
    "        f2.close()\n",
    "         \n"
   ]
  },
  {
   "cell_type": "code",
   "execution_count": null,
   "id": "2223eabb",
   "metadata": {},
   "outputs": [],
   "source": [
    "x=int(input(\"enter the num\"))\n",
    "list=[]\n",
    "for i in range(0,x):\n",
    "    print(\"enter no \",i)\n",
    "    item=int(input())\n",
    "    list.append(item)\n",
    "print(\"print list\",list)\n",
    "fp=open('OOPS.txt','w')\n",
    "for d in lsit:\n",
    "fp.write(fp'{d}\\n')\n",
    "print(done)\n",
    "fp.close()\n",
    "         f2.open(\"OOPS.txt\",'r')\n",
    "         num1=f2.readlines()\n",
    "         num1=[int(i) for i num1]\n",
    "         print(num1)\n",
    "        f2.close()\n",
    "         "
   ]
  },
  {
   "cell_type": "markdown",
   "id": "6c7a7e29",
   "metadata": {},
   "source": [
    "# Data Encapsulation"
   ]
  },
  {
   "cell_type": "code",
   "execution_count": null,
   "id": "7ef53722",
   "metadata": {},
   "outputs": [],
   "source": [
    "# python provides access to all the variable and method globally.\n",
    "# By using encapsulation, we can restrict the variable and methods\n",
    "# access globally by making it private or protected."
   ]
  },
  {
   "cell_type": "code",
   "execution_count": null,
   "id": "39b89d18",
   "metadata": {},
   "outputs": [],
   "source": [
    "# NOTE:\n",
    "# 1.single underscore(protected)\n",
    "# 2.Double underscore(private)"
   ]
  },
  {
   "cell_type": "code",
   "execution_count": null,
   "id": "f9f0729d",
   "metadata": {},
   "outputs": [],
   "source": [
    "class A:\n",
    "    _a=10 #protected\n",
    "    __b=20 #private\n",
    "    def show(self):\n",
    "        print(\"a=\",self._a)\n",
    "        print(\"a=\",self.__b)\n",
    "        \n",
    "obj=A()\n",
    "obj.show()\n",
    "print(\"outside of class\",obj._a)\n",
    "print(\"outside of class\",obj.__b) #accessing private"
   ]
  },
  {
   "cell_type": "code",
   "execution_count": null,
   "id": "a870e637",
   "metadata": {},
   "outputs": [],
   "source": []
  },
  {
   "cell_type": "code",
   "execution_count": null,
   "id": "ff0e3a66",
   "metadata": {},
   "outputs": [],
   "source": []
  },
  {
   "cell_type": "code",
   "execution_count": null,
   "id": "3a9a089e",
   "metadata": {},
   "outputs": [],
   "source": []
  }
 ],
 "metadata": {
  "kernelspec": {
   "display_name": "Python 3 (ipykernel)",
   "language": "python",
   "name": "python3"
  },
  "language_info": {
   "codemirror_mode": {
    "name": "ipython",
    "version": 3
   },
   "file_extension": ".py",
   "mimetype": "text/x-python",
   "name": "python",
   "nbconvert_exporter": "python",
   "pygments_lexer": "ipython3",
   "version": "3.11.5"
  }
 },
 "nbformat": 4,
 "nbformat_minor": 5
}
